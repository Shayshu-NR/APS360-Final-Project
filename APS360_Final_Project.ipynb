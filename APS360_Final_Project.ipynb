{
  "nbformat": 4,
  "nbformat_minor": 0,
  "metadata": {
    "colab": {
      "name": "APS360 Final Project.ipynb",
      "provenance": [],
      "collapsed_sections": [],
      "toc_visible": true,
      "include_colab_link": true
    },
    "kernelspec": {
      "name": "python3",
      "display_name": "Python 3"
    }
  },
  "cells": [
    {
      "cell_type": "markdown",
      "metadata": {
        "id": "view-in-github",
        "colab_type": "text"
      },
      "source": [
        "<a href=\"https://colab.research.google.com/github/Shayshu-NR/APS360-Final-Project/blob/main/APS360_Final_Project.ipynb\" target=\"_parent\"><img src=\"https://colab.research.google.com/assets/colab-badge.svg\" alt=\"Open In Colab\"/></a>"
      ]
    },
    {
      "cell_type": "markdown",
      "metadata": {
        "id": "WLdYQtbA8Hep"
      },
      "source": [
        "# AI APES\r\n"
      ]
    },
    {
      "cell_type": "markdown",
      "metadata": {
        "id": "Uy9Ad3aA9u8t"
      },
      "source": [
        "Yash IRL: <br>\r\n",
        "\r\n",
        "\r\n",
        "![image.png](data:image/png;base64,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)"
      ]
    },
    {
      "cell_type": "code",
      "metadata": {
        "id": "pNMbnrZAUX4z"
      },
      "source": [
        "import torch\r\n",
        "import torch.nn as nn\r\n",
        "import torch.nn.functional as F\r\n",
        "import torch.optim as optim\r\n",
        "import numpy as np\r\n",
        "import torchtext\r\n",
        "import pandas as pd\r\n",
        "import matplotlib.pyplot as plt\r\n",
        "from torch.utils.data import Dataset, DataLoader\r\n",
        "from torch.utils.data.sampler import SubsetRandomSampler\r\n",
        "from torchvision import transforms, utils"
      ],
      "execution_count": 9,
      "outputs": []
    },
    {
      "cell_type": "code",
      "metadata": {
        "id": "gdWvoH9EiWVb"
      },
      "source": [
        "from google.colab import drive\n",
        "drive.mount('/content/drive')"
      ],
      "execution_count": null,
      "outputs": []
    },
    {
      "cell_type": "code",
      "metadata": {
        "id": "GqiBiOwqCtZn"
      },
      "source": [
        " ! pip install -q kaggle"
      ],
      "execution_count": 2,
      "outputs": []
    },
    {
      "cell_type": "code",
      "metadata": {
        "id": "Ki-hDarxDA_C"
      },
      "source": [
        "from google.colab import files\r\n",
        "\r\n",
        "files.upload()"
      ],
      "execution_count": null,
      "outputs": []
    },
    {
      "cell_type": "code",
      "metadata": {
        "id": "EXZlfj1sOAaf"
      },
      "source": [
        "! mkdir ~/.kaggle\r\n",
        "! cp kaggle.json ~/.kaggle/\r\n",
        "! ls ~/.kaggle\r\n",
        "! chmod 600 ~/.kaggle/kaggle.json"
      ],
      "execution_count": null,
      "outputs": []
    },
    {
      "cell_type": "code",
      "metadata": {
        "id": "fa90KLriDn0V"
      },
      "source": [
        "! kaggle datasets download -d stefanoleone992/imdb-extensive-dataset "
      ],
      "execution_count": null,
      "outputs": []
    },
    {
      "cell_type": "code",
      "metadata": {
        "id": "qZFYwAOqEAgm"
      },
      "source": [
        "! unzip /content/imdb-extensive-dataset.zip -d '/root/datasets'"
      ],
      "execution_count": null,
      "outputs": []
    },
    {
      "cell_type": "markdown",
      "metadata": {
        "id": "pXIAUJp16U8t"
      },
      "source": [
        "# Baseline Model\r\n"
      ]
    },
    {
      "cell_type": "markdown",
      "metadata": {
        "id": "kSbWj-Re6YaT"
      },
      "source": [
        "Extract the necessary info, clean up the data:"
      ]
    },
    {
      "cell_type": "code",
      "metadata": {
        "id": "huB0aufiFWdZ",
        "colab": {
          "base_uri": "https://localhost:8080/"
        },
        "outputId": "e84dac24-1ef0-4983-eae9-f2698e907837"
      },
      "source": [
        "movies = pd.read_csv('/root/datasets/IMDb movies.csv', index_col=False)"
      ],
      "execution_count": 10,
      "outputs": [
        {
          "output_type": "stream",
          "text": [
            "/usr/local/lib/python3.7/dist-packages/IPython/core/interactiveshell.py:2718: DtypeWarning: Columns (3) have mixed types.Specify dtype option on import or set low_memory=False.\n",
            "  interactivity=interactivity, compiler=compiler, result=result)\n"
          ],
          "name": "stderr"
        }
      ]
    },
    {
      "cell_type": "code",
      "metadata": {
        "id": "bGNa08vQMAgo"
      },
      "source": [
        "catcols = ['genre', 'budget', 'country', 'duration', 'year', 'avg_vote']\r\n",
        "df = movies[catcols]\r\n",
        "not_missing = df.dropna()"
      ],
      "execution_count": 11,
      "outputs": []
    },
    {
      "cell_type": "code",
      "metadata": {
        "id": "zdbnq-vyQSE-"
      },
      "source": [
        "not_missing = not_missing[pd.to_numeric(not_missing['year']) > 1980]"
      ],
      "execution_count": 12,
      "outputs": []
    },
    {
      "cell_type": "code",
      "metadata": {
        "id": "bYgNyqJRUFs6"
      },
      "source": [
        "no_foreign = not_missing[not_missing['budget'].str[0] == '$']\r\n",
        "no_foreign['budget'] = no_foreign['budget'].str.replace('$', '')\r\n",
        "\r\n",
        "no_foreign['budget'] = no_foreign['budget'].astype('float')\r\n",
        "no_foreign['duration'] = no_foreign['duration'].astype('float')\r\n",
        "no_foreign['year'] = no_foreign['year'].astype('float')\r\n",
        "no_foreign['avg_vote'] = no_foreign['avg_vote'].astype('float')"
      ],
      "execution_count": null,
      "outputs": []
    },
    {
      "cell_type": "markdown",
      "metadata": {
        "id": "o1hdamR66eVd"
      },
      "source": [
        "Normalize the continuous data:"
      ]
    },
    {
      "cell_type": "code",
      "metadata": {
        "id": "PE7M7OdTZkuY"
      },
      "source": [
        "# Normalize budget\r\n",
        "cont_features = no_foreign[['budget', 'duration', 'year', 'avg_vote']]\r\n",
        "\r\n",
        "normalized = no_foreign\r\n",
        "\r\n",
        "normalized['budget']  = (normalized['budget'] - normalized['budget'].min()) / (normalized['budget'].max() - normalized['budget'].min()) \r\n",
        "normalized['duration']  = (normalized['duration'] - normalized['duration'].min()) / (normalized['duration'].max() - normalized['duration'].min()) \r\n",
        "normalized['year']  = (normalized['year'] - normalized['year'].min()) / (normalized['year'].max() - normalized['year'].min()) \r\n",
        "normalized['avg_vote']  = (normalized['avg_vote'] - normalized['avg_vote'].min()) / (normalized['avg_vote'].max() - normalized['avg_vote'].min()) "
      ],
      "execution_count": null,
      "outputs": []
    },
    {
      "cell_type": "code",
      "metadata": {
        "id": "92TNNt4KcWYW"
      },
      "source": [
        "normalized_labels  = normalized[['avg_vote']]\r\n",
        "normalized = normalized[['genre', 'budget', 'country', 'duration', 'year']]"
      ],
      "execution_count": 15,
      "outputs": []
    },
    {
      "cell_type": "code",
      "metadata": {
        "id": "riAIAvbkTwR4"
      },
      "source": [
        "data = pd.get_dummies(normalized)"
      ],
      "execution_count": 16,
      "outputs": []
    },
    {
      "cell_type": "code",
      "metadata": {
        "id": "D_vTuYBAT1Co"
      },
      "source": [
        "datanp = data.values.astype(np.float32)\r\n",
        "labelnp = normalized_labels.values.astype(np.float32)"
      ],
      "execution_count": 17,
      "outputs": []
    },
    {
      "cell_type": "markdown",
      "metadata": {
        "id": "syoJZUtY6iFK"
      },
      "source": [
        "Create training and testing data sets:"
      ]
    },
    {
      "cell_type": "code",
      "metadata": {
        "id": "hIshOflf1Jip"
      },
      "source": [
        "np.random.seed(1000)\r\n",
        "\r\n",
        "np.random.shuffle(datanp)\r\n",
        "np.random.shuffle(labelnp)\r\n",
        "\r\n",
        "train_index = int(len(datanp) * 0.9)\r\n",
        "\r\n",
        "train_set = datanp[:train_index]\r\n",
        "test_set = datanp[train_index:]\r\n",
        "\r\n",
        "train_label = labelnp[:train_index]\r\n",
        "test_label = labelnp[train_index:]"
      ],
      "execution_count": 18,
      "outputs": []
    },
    {
      "cell_type": "markdown",
      "metadata": {
        "id": "_E4x5-L-6mNh"
      },
      "source": [
        "Use a premade model to make predictions"
      ]
    },
    {
      "cell_type": "code",
      "metadata": {
        "id": "v7qa00F2yoTS"
      },
      "source": [
        "from sklearn import linear_model\r\n",
        "\r\n",
        "model = linear_model.SGDRegressor()\r\n",
        "model.fit(train_set, train_label)\r\n",
        "\r\n",
        "result = model.predict(test_set)\r\n",
        "\r\n",
        "\r\n",
        "accuracy  = 0 \r\n",
        "loss = 0\r\n",
        "for i in range(len(result)):\r\n",
        "\r\n",
        "\r\n",
        "  how_close = abs(result[i] - test_label[i])\r\n",
        "  \r\n",
        "  if how_close < 0.1 :\r\n",
        "    accuracy += 1\r\n",
        "  \r\n",
        "  loss += (how_close)**2.0\r\n",
        "\r\n",
        "\r\n",
        "print('Testing data performance', 100 * (accuracy / len(result)), '% correctly predicted')\r\n",
        "print('Testing data performance', (loss / len(result)), 'Loss')"
      ],
      "execution_count": null,
      "outputs": []
    },
    {
      "cell_type": "markdown",
      "metadata": {
        "id": "5xAI6E676sBS"
      },
      "source": [
        "The testing accuracy of this model was 48.13%, with a mean squared loss of 0.024"
      ]
    }
  ]
}